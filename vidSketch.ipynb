{
  "cells": [
    {
      "cell_type": "markdown",
      "metadata": {
        "id": "rQquARlHQ35n"
      },
      "source": [
        "# Install Conda and Run Enviornment:"
      ]
    },
    {
      "cell_type": "code",
      "execution_count": 1,
      "metadata": {
        "id": "NlpPLGB-GvXf"
      },
      "outputs": [],
      "source": [
        "!pip install -q condacolab"
      ]
    },
    {
      "cell_type": "code",
      "execution_count": 2,
      "metadata": {
        "colab": {
          "base_uri": "https://localhost:8080/"
        },
        "id": "cUGHDy4yG5-p",
        "outputId": "7ab95757-2455-4b6a-abb6-031726843fdf"
      },
      "outputs": [
        {
          "name": "stdout",
          "output_type": "stream",
          "text": [
            "⏬ Downloading https://github.com/conda-forge/miniforge/releases/download/23.1.0-1/Mambaforge-23.1.0-1-Linux-x86_64.sh...\n",
            "📦 Installing...\n",
            "📌 Adjusting configuration...\n",
            "🩹 Patching environment...\n",
            "⏲ Done in 0:00:18\n",
            "🔁 Restarting kernel...\n"
          ]
        }
      ],
      "source": [
        "import condacolab\n",
        "condacolab.install()"
      ]
    },
    {
      "cell_type": "markdown",
      "metadata": {
        "id": "T1k2MtQfiWmT"
      },
      "source": [
        "Colab will restart now. continue from the next line when its on again."
      ]
    },
    {
      "cell_type": "code",
      "execution_count": null,
      "metadata": {
        "id": "5z1zDvCdHtCg"
      },
      "outputs": [],
      "source": [
        "import condacolab\n",
        "condacolab.check()"
      ]
    },
    {
      "cell_type": "markdown",
      "metadata": {
        "id": "x-R1M5ORjWm8"
      },
      "source": [
        "The following line will map your drive. make sure your video is in your drive (if it is in a shared folder, you will need to make a shortcut of that folder to your drive, before you run the next line)"
      ]
    },
    {
      "cell_type": "code",
      "execution_count": null,
      "metadata": {
        "id": "-2V6CQWhX6jx"
      },
      "outputs": [],
      "source": [
        "from google.colab import drive\n",
        "drive.mount('/content/gdrive')"
      ]
    },
    {
      "cell_type": "code",
      "execution_count": null,
      "metadata": {
        "id": "AgyIFg5vHJZI"
      },
      "outputs": [],
      "source": [
        "!conda create --name myenv python=3.8"
      ]
    },
    {
      "cell_type": "code",
      "execution_count": null,
      "metadata": {
        "id": "UnD2_jqPNRx_"
      },
      "outputs": [],
      "source": [
        "%%bash\n",
        "source activate myenv\n",
        "python\n",
        "\n",
        "import sys\n",
        "print(sys.executable)\n",
        "print(\"Python version\")\n",
        "print(sys.version)"
      ]
    },
    {
      "cell_type": "code",
      "execution_count": null,
      "metadata": {
        "id": "HKgdcIWdOPdv"
      },
      "outputs": [],
      "source": [
        "%%bash\n",
        "source activate myenv\n",
        "pip install torch==1.12.1+cu113 torchvision==0.13.1+cu113 --extra-index-url https://download.pytorch.org/whl/cu113\n",
        "conda install -y numpy scikit-image\n",
        "conda install -y -c anaconda cmake\n",
        "conda install -y -c conda-forge ffmpeg\n",
        "pip install svgwrite svgpathtools cssutils numba torch-tools scikit-fmm easydict visdom freetype-py shapely\n",
        "pip3 install opencv-contrib-python==4.5.5.62\n",
        "pip install kornia==0.5.11\n",
        "pip install wandb\n",
        "pip install shapely\n",
        "pip install wldhx.yadisk-direct\n",
        "conda install -c conda-forge scikit-learn\n",
        "pip install pytorch-lightning==1.8\n",
        "pip install hydra-core\n",
        "pip install albumentations==0.5.2\n",
        "pip install webdataset\n",
        "pip install ipython\n",
        "pip install ipykernel\n"
      ]
    },
    {
      "cell_type": "code",
      "execution_count": null,
      "metadata": {
        "id": "1_yRTQpJT3fS"
      },
      "outputs": [],
      "source": [
        "%%bash\n",
        "source activate myenv\n",
        "git clone https://github.com/BachiLi/diffvg\n",
        "cd diffvg\n",
        "git submodule update --init --recursive\n",
        "python setup.py install"
      ]
    },
    {
      "cell_type": "code",
      "execution_count": null,
      "metadata": {
        "id": "9TJ5PJa0cSkC"
      },
      "outputs": [],
      "source": [
        "%%bash\n",
        "source activate myenv\n",
        "pip install git+https://github.com/openai/CLIP.git"
      ]
    },
    {
      "cell_type": "code",
      "execution_count": 8,
      "metadata": {
        "colab": {
          "base_uri": "https://localhost:8080/"
        },
        "id": "T8YULLmSPqC-",
        "outputId": "33176b36-bf15-479b-a143-e4fa06dbb75d"
      },
      "outputs": [
        {
          "name": "stdout",
          "output_type": "stream",
          "text": [
            "cuda avoilable: True\n"
          ]
        }
      ],
      "source": [
        "%%bash\n",
        "source activate myenv\n",
        "\n",
        "python\n",
        "import torch\n",
        "print(f'cuda avoilable: {torch.cuda.is_available()}')"
      ]
    },
    {
      "cell_type": "code",
      "execution_count": null,
      "metadata": {
        "id": "-NkS7X6aKwXj"
      },
      "outputs": [],
      "source": [
        "%%bash\n",
        "source activate myenv\n",
        "pip install -U openmim\n",
        "mim install mmcv-full\n",
        "pip install mmflow"
      ]
    },
    {
      "cell_type": "code",
      "execution_count": null,
      "metadata": {
        "id": "_SoBJQ-GMKlf"
      },
      "outputs": [],
      "source": [
        "!git clone https://github.com/open-mmlab/mmflow.git"
      ]
    },
    {
      "cell_type": "code",
      "execution_count": null,
      "metadata": {
        "id": "l57EMoLZJjIQ"
      },
      "outputs": [],
      "source": [
        "%%bash\n",
        "source activate myenv\n",
        "mim download mmflow --config raft_8x2_100k_mixed_368x768 || exit 0"
      ]
    },
    {
      "cell_type": "markdown",
      "metadata": {
        "id": "JhQhNBg3XUSH"
      },
      "source": [
        "#CLIPaScene"
      ]
    },
    {
      "cell_type": "markdown",
      "metadata": {
        "id": "uy7JGv_4N554"
      },
      "source": [
        "## CLIPaScene installation"
      ]
    },
    {
      "cell_type": "code",
      "execution_count": null,
      "metadata": {
        "id": "AEOg2gj6WHvm"
      },
      "outputs": [],
      "source": [
        "%%bash\n",
        "source activate myenv\n",
        "git clone https://github.com/ShaiShaike/VideoSketch.git\n",
        "cd VideoSketch/SceneSketch/\n",
        "# git clone https://github.com/yael-vinker/SceneSketch.git\n",
        "# cd SceneSketch/\n",
        "wget https://huggingface.co/akhaliq/CLIPasso/resolve/main/u2net.pth --output-document=U2Net_/saved_models/u2net.pth\n",
        "cd lama/\n",
        "# curl -L $(yadisk-direct https://disk.yandex.ru/d/ouP6l8VJ0HpMZg) -o big-lama.zip\n",
        "# unzip big-lama.zip"
      ]
    },
    {
      "cell_type": "code",
      "execution_count": 13,
      "metadata": {
        "id": "CNavPLWSZy7p"
      },
      "outputs": [],
      "source": [
        "with open(\"/content/VideoSketch/SceneSketch/CLIP_/clip/auxilary.py\") as file:\n",
        "  content = file.read()\n",
        "content = content.replace(\"pad = F._pad\", \"pad = F.pad\")\n",
        "with open(\"/content/VideoSketch/SceneSketch/CLIP_/clip/auxilary.py\", \"w\") as file:\n",
        "  file.write(content)"
      ]
    },
    {
      "cell_type": "markdown",
      "metadata": {
        "id": "-dRg88ssNwhY"
      },
      "source": [
        "## Run CLIPaScene"
      ]
    },
    {
      "cell_type": "code",
      "execution_count": null,
      "metadata": {
        "id": "UZLW8vJYp569"
      },
      "outputs": [],
      "source": [
        "%%bash\n",
        "cd VideoSketch/\n",
        "git pull"
      ]
    },
    {
      "cell_type": "markdown",
      "metadata": {
        "id": "7qOGf7jXig8L"
      },
      "source": [
        "The Following line is the execution of the optimization. make sure your video path is correct in the arguments."
      ]
    },
    {
      "cell_type": "code",
      "execution_count": null,
      "metadata": {
        "id": "PXXRV6zvYhYZ"
      },
      "outputs": [],
      "source": [
        "%%bash\n",
        "source activate myenv\n",
        "cd VideoSketch/SceneSketch\n",
        "#ls scripts\n",
        "python scripts/run_video_sketch.py --mmflow_config_file '/content/mmflow/configs/raft/raft_8x2_100k_mixed_368x768.py' --mmflow_checkpoint '/root/.cache/mim/raft_8x2_100k_mixed_368x768.pth' --video_path \"/content/gdrive/My Drive/Final Project_206899080/DataSet/ballerina2.mp4\" --workdir \"./workdir\" --start_frame 1 --end_frame 58 --center_frame 12 --center_method \"centerloss_centeriter_motionloss\" --future_frames 100 --slowmotion 6 --num_pos_encoding 9 --edges_blur 15 --model_ver 1 --motion_reg_ratio 0.0 --output_pref \"./results_sketches/pekinex/runs\" --num_iter 5000 --lr 0.0001 --test_name \"object_l4_pekinez\" --num_strokes 16 --width 1.5 --num_sketches 2 --mask_object 1 --clip_conv_layer_weights \"0,0,1,0,1,0,0,0,0,0,0,0\" --center_clip_weights \"0,0,0,0,1,0,0,0,0,0,0,0\" --gradnorm 0 --resize_obj 1 --eval_interval 50 --min_eval_iter 20 -colab -scheduler\n",
        "#python scripts/run_video_sketch.py --video_path \"/content/gdrive/My Drive/Final Project_206899080/DataSet/black_horse.mp4\" --workdir \"./workdir\" --start_frame 1 --end_frame 47 --center_frame 12 --center_method \"centerloss_edgeloss\" --num_pos_encoding 9 --edges_blur 15 --model_ver 1 --motion_reg_ratio 0.0 --output_pref \"./results_sketches/pekinex/runs\" --num_iter 8000 --lr 0.0001 --test_name \"object_l4_pekinez\" --num_strokes 8 --width 1.5 --num_sketches 2 --mask_object 1 --clip_conv_layer_weights \"0,0,1,0,0,0,0,0,0,0,0,0\" --center_clip_weights \"0,0,0,0,0,0,1,0,0,0,0,0\" --gradnorm 0 --resize_obj 1 --eval_interval 50 --min_eval_iter 20 -colab -scheduler"
      ]
    },
    {
      "cell_type": "markdown",
      "metadata": {
        "id": "uv4uPNX8i42b"
      },
      "source": [
        "The following line will save the result to a folder in your drive. make sure the path is correct"
      ]
    },
    {
      "cell_type": "code",
      "execution_count": null,
      "metadata": {
        "id": "FHMzDtflHit5"
      },
      "outputs": [],
      "source": [
        "from pathlib import Path\n",
        "from shutil import copy\n",
        "from os import makedirs\n",
        "from pathlib import Path\n",
        "import numpy as np\n",
        "folder = 'ballerina_16_curves_5k_centerloss_centeriter_motionloss_onecycle_level_3_5_centerlevel_5_model_ver_1_pos_enc_9'\n",
        "dir_path = Path('/content/gdrive/My Drive')\n",
        "makedirs(str(dir_path / 'Final Project' / 'results' / folder / 'images'), exist_ok=True)\n",
        "#makedirs(str(dir_path / 'Final Project' / 'results' / folder / 'edges'), exist_ok=True)\n",
        "makedirs(str(dir_path / 'Final Project' / 'results' / folder / 'svgs'), exist_ok=True)\n",
        "# for frame_num in range(1, 3*(58+100-1)+1):\n",
        "#   #copy(f'VideoSketch/SceneSketch/results_sketches/pekinex/runs/object_l4_pekinez//object_l4_pekinez_seed1000/edges_{frame_num}.png',\n",
        "#   #    str(dir_path / 'Final Project' / 'results' / folder / 'edges'))\n",
        "#   copy(f'VideoSketch/SceneSketch/results_sketches/pekinex/runs/object_l4_pekinez//best/best_frame_{frame_num}.png',\n",
        "#       str(dir_path / 'Final Project' / 'results' / folder / 'images'))\n",
        "#   copy(f'VideoSketch/SceneSketch/results_sketches/pekinex/runs/object_l4_pekinez//object_l4_pekinez_seed1000/best_iter_frame_{frame_num}.svg',\n",
        "#       str(dir_path / 'Final Project' / 'results'/ folder / 'svgs'))\n",
        "# copy('VideoSketch/SceneSketch/results_sketches/pekinex/runs/object_l4_pekinez//object_l4_pekinez_seed1000/init.svg',\n",
        "#      str(dir_path))\n",
        "\n",
        "slowmotion = 6\n",
        "workdir = 'VideoSketch/SceneSketch/results_sketches/pekinex/runs/object_l4_pekinez//best/'\n",
        "debug_dir = dir_path / 'Final Project' / 'results' / folder / 'debug'\n",
        "makedirs(str(debug_dir), exist_ok=True)\n",
        "for child in Path(workdir).iterdir():\n",
        "  if 'eval_epoch' in str(child):\n",
        "    copy(str(child),\n",
        "      str(dir_path / 'Final Project' / 'results' / folder / 'debug'))\n",
        "\n",
        "for frame_num in range(1, 57 + 100):\n",
        "  for part_index, part_frame in enumerate(np.arange(0, 1, 1 / slowmotion)):\n",
        "    copy(f'VideoSketch/SceneSketch/results_sketches/pekinex/runs/object_l4_pekinez//best/best_frame_{frame_num}_{part_index}.png',\n",
        "         str(dir_path / 'Final Project' / 'results' / folder / 'images'))\n",
        "\n",
        "\n",
        "from time import sleep\n",
        "sleep(3*60)"
      ]
    }
  ],
  "metadata": {
    "accelerator": "GPU",
    "colab": {
      "provenance": []
    },
    "kernelspec": {
      "display_name": "Python 3",
      "name": "python3"
    },
    "language_info": {
      "name": "python"
    }
  },
  "nbformat": 4,
  "nbformat_minor": 0
}
